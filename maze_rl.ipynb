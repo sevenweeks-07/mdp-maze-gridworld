{
 "cells": [
  {
   "cell_type": "code",
   "execution_count": 45,
   "id": "ae63f564",
   "metadata": {},
   "outputs": [],
   "source": [
    "import gym\n",
    "import matplotlib.pyplot as plt\n",
    "import numpy as np\n",
    "from envs import Maze\n",
    "from IPython import display\n",
    "%matplotlib inline"
   ]
  },
  {
   "cell_type": "code",
   "execution_count": 3,
   "id": "5cc61bd0",
   "metadata": {},
   "outputs": [],
   "source": [
    "env=Maze()"
   ]
  },
  {
   "cell_type": "markdown",
   "id": "oq7dxlalwu",
   "source": "## Environment Initialization\n\nThe Maze environment is a grid-world where an agent (red circle) must navigate to a goal (teal square). The environment follows the standard gym API.",
   "metadata": {}
  },
  {
   "cell_type": "code",
   "execution_count": 9,
   "id": "0960a5a7",
   "metadata": {},
   "outputs": [
    {
     "name": "stdout",
     "output_type": "stream",
     "text": [
      "The new episode has started. The agent's initial state is (0, 0).\n"
     ]
    }
   ],
   "source": [
    "initial_state=env.reset()\n",
    "print(f\"The new episode has started. The agent's initial state is {initial_state}.\")"
   ]
  },
  {
   "cell_type": "markdown",
   "id": "zpa7jw5veyn",
   "source": "### Resetting the Environment\n\nThe `reset()` method initializes a new episode and returns the starting state $s_0$. In this environment, the state is represented as a tuple $(row, col)$ indicating the agent's position in the grid.",
   "metadata": {}
  },
  {
   "cell_type": "code",
   "execution_count": 10,
   "id": "d188c190",
   "metadata": {},
   "outputs": [
    {
     "data": {
      "text/plain": [
       "<matplotlib.image.AxesImage at 0x18e09736aa0>"
      ]
     },
     "execution_count": 10,
     "metadata": {},
     "output_type": "execute_result"
    },
    {
     "data": {
      "image/png": "[encoded data removed]",
      "text/plain": [
       "<Figure size 640x480 with 1 Axes>"
      ]
     },
     "metadata": {},
     "output_type": "display_data"
    }
   ],
   "source": [
    "frame=env.render(mode='rgb_array')\n",
    "plt.axis('off')\n",
    "plt.title(f\"STATE: {initial_state}\")\n",
    "plt.imshow(frame)"
   ]
  },
  {
   "cell_type": "markdown",
   "id": "1cfgqicav0ih",
   "source": "### Visualizing the Environment\n\nThe maze consists of:\n- **Red circle**: The agent's current position\n- **Teal square**: The goal state\n- **White walls**: Obstacles that block movement",
   "metadata": {}
  },
  {
   "cell_type": "code",
   "execution_count": 11,
   "id": "c110e498",
   "metadata": {},
   "outputs": [
    {
     "name": "stdout",
     "output_type": "stream",
     "text": [
      "After moving down one row, the agent's new state is (1, 0), reward is -1.0, done is False, info is {}.\n",
      "After moving down one row, the task is not done yet.\n"
     ]
    }
   ],
   "source": [
    "action=2\n",
    "next_state, reward, done, info=env.step(action)\n",
    "print(f\"After moving down one row, the agent's new state is {next_state}, reward is {reward}, done is {done}, info is {info}.\")\n",
    "print(\"After moving down one row, the task is\",\"not done yet.\" if not done else \"done.\")"
   ]
  },
  {
   "cell_type": "markdown",
   "id": "e103fo2j20m",
   "source": "## Taking Actions\n\nThe agent interacts with the environment using the `step(action)` method, which returns:\n- $s_{t+1}$: next state\n- $r_t$: reward\n- $done$: whether the episode has terminated\n- $info$: additional information (dictionary)\n\nActions are discrete:\n- 0: UP\n- 1: RIGHT\n- 2: DOWN\n- 3: LEFT",
   "metadata": {}
  },
  {
   "cell_type": "code",
   "execution_count": 12,
   "id": "145bfecd",
   "metadata": {},
   "outputs": [
    {
     "data": {
      "text/plain": [
       "<matplotlib.image.AxesImage at 0x18e096ffb80>"
      ]
     },
     "execution_count": 12,
     "metadata": {},
     "output_type": "execute_result"
    },
    {
     "data": {
      "image/png": "[encoded data removed]",
      "text/plain": [
       "<Figure size 640x480 with 1 Axes>"
      ]
     },
     "metadata": {},
     "output_type": "display_data"
    }
   ],
   "source": [
    "frame=env.render(mode='rgb_array')\n",
    "plt.axis('off')\n",
    "plt.title(f\"STATE: {next_state}\")\n",
    "plt.imshow(frame)"
   ]
  },
  {
   "cell_type": "code",
   "execution_count": 14,
   "id": "6a066713",
   "metadata": {},
   "outputs": [],
   "source": [
    "env.close()"
   ]
  },
  {
   "cell_type": "code",
   "execution_count": 21,
   "id": "025de8a0",
   "metadata": {},
   "outputs": [
    {
     "name": "stdout",
     "output_type": "stream",
     "text": [
      "The state space is of type: MultiDiscrete([5 5])\n",
      "The action space is of type: Discrete(4)\n",
      "The possible actions are: [0, 1, 2, 3]\n"
     ]
    }
   ],
   "source": [
    "print(f\"The state space is of type: {env.observation_space}\")\n",
    "print(f\"The action space is of type: {env.action_space}\")\n",
    "print(f\"The possible actions are: {list(range(env.action_space.n))}\")"
   ]
  },
  {
   "cell_type": "markdown",
   "id": "2a28gbhrpsk",
   "source": "## State and Action Spaces\n\nEvery RL environment defines:\n- **Observation Space** $\\\\mathcal{S}$: The set of all possible states\n- **Action Space** $\\\\mathcal{A}$: The set of all possible actions\n\nIn this maze:\n- State space: $\\\\mathcal{S} = \\\\{0,1,2,3,4\\\\} \\\\times \\\\{0,1,2,3,4\\\\}$ (5×5 grid)\n- Action space: $\\\\mathcal{A} = \\\\{0,1,2,3\\\\}$ (4 discrete actions)",
   "metadata": {}
  },
  {
   "cell_type": "code",
   "execution_count": 28,
   "id": "a89afc3a",
   "metadata": {},
   "outputs": [
    {
     "name": "stdout",
     "output_type": "stream",
     "text": [
      "Sampled trajectory:[((0, 0), 2, -1.0, False, (1, 0)), ((1, 0), 2, -1.0, False, (2, 0)), ((2, 0), 2, -1.0, False, (3, 0))]\n"
     ]
    }
   ],
   "source": [
    "env=Maze()\n",
    "state=env.reset()\n",
    "trajectory=[]\n",
    "for _ in range(3):\n",
    "    action=env.action_space.sample()\n",
    "    next_state,reward,done,info=env.step(action)\n",
    "    trajectory.append((state,action,reward,done,next_state))\n",
    "    state=next_state\n",
    "print(f\"Sampled trajectory:{trajectory}\")\n"
   ]
  },
  {
   "cell_type": "markdown",
   "id": "qgjuwr2av8",
   "source": "## Trajectories\n\nA **trajectory** is a sequence of state-action-reward transitions:\n\n$$\\\\tau = (s_0, a_0, r_0, s_1, a_1, r_1, ..., s_T)$$\n\nwhere each transition consists of:\n- Current state $s_t$\n- Action taken $a_t$\n- Reward received $r_t$\n- Terminal flag $done$\n- Next state $s_{t+1}$",
   "metadata": {}
  },
  {
   "cell_type": "code",
   "execution_count": 29,
   "id": "2f981d29",
   "metadata": {},
   "outputs": [
    {
     "name": "stdout",
     "output_type": "stream",
     "text": [
      "Sampled episode:[((0, 0), 1, -1.0, False, (0, 1)), ((0, 1), 2, -1.0, False, (1, 1)), ((1, 1), 1, -1.0, False, (1, 1)), ((1, 1), 2, -1.0, False, (2, 1)), ((2, 1), 3, -1.0, False, (2, 1)), ((2, 1), 3, -1.0, False, (2, 1)), ((2, 1), 0, -1.0, False, (1, 1)), ((1, 1), 2, -1.0, False, (2, 1)), ((2, 1), 0, -1.0, False, (1, 1)), ((1, 1), 0, -1.0, False, (0, 1)), ((0, 1), 2, -1.0, False, (1, 1)), ((1, 1), 3, -1.0, False, (1, 1)), ((1, 1), 0, -1.0, False, (0, 1)), ((0, 1), 2, -1.0, False, (1, 1)), ((1, 1), 1, -1.0, False, (1, 1)), ((1, 1), 0, -1.0, False, (0, 1)), ((0, 1), 3, -1.0, False, (0, 0)), ((0, 0), 2, -1.0, False, (1, 0)), ((1, 0), 2, -1.0, False, (2, 0)), ((2, 0), 2, -1.0, False, (3, 0)), ((3, 0), 2, -1.0, False, (4, 0)), ((4, 0), 3, -1.0, False, (4, 0)), ((4, 0), 3, -1.0, False, (4, 0)), ((4, 0), 3, -1.0, False, (4, 0)), ((4, 0), 0, -1.0, False, (3, 0)), ((3, 0), 2, -1.0, False, (4, 0)), ((4, 0), 1, -1.0, False, (4, 1)), ((4, 1), 0, -1.0, False, (4, 1)), ((4, 1), 0, -1.0, False, (4, 1)), ((4, 1), 1, -1.0, False, (4, 2)), ((4, 2), 0, -1.0, False, (3, 2)), ((3, 2), 0, -1.0, False, (3, 2)), ((3, 2), 0, -1.0, False, (3, 2)), ((3, 2), 0, -1.0, False, (3, 2)), ((3, 2), 0, -1.0, False, (3, 2)), ((3, 2), 0, -1.0, False, (3, 2)), ((3, 2), 1, -1.0, False, (3, 3)), ((3, 3), 1, -1.0, False, (3, 4)), ((3, 4), 2, -1.0, True, (4, 4))]\n"
     ]
    }
   ],
   "source": [
    "env=Maze()\n",
    "state=env.reset()\n",
    "done=False\n",
    "episode=[]\n",
    "while not done:\n",
    "    action=env.action_space.sample()\n",
    "    next_state,reward,done,info=env.step(action)\n",
    "    episode.append((state,action,reward,done,next_state))\n",
    "    state=next_state\n",
    "\n",
    "print(f\"Sampled episode:{episode}\")"
   ]
  },
  {
   "cell_type": "markdown",
   "id": "bzc9jsk0az5",
   "source": "## Episodes\n\nAn **episode** is a complete trajectory from start to termination ($done = True$). \n\nIn episodic tasks like this maze, the agent interacts until reaching a terminal state (the goal). The episode length can vary depending on the agent's actions.",
   "metadata": {}
  },
  {
   "cell_type": "code",
   "execution_count": 30,
   "id": "0812e8c5",
   "metadata": {},
   "outputs": [
    {
     "name": "stdout",
     "output_type": "stream",
     "text": [
      "Taking a random action 0 from the initial state (0, 0) gives a reward of -1.0.\n"
     ]
    }
   ],
   "source": [
    "env=Maze()\n",
    "state=env.reset()\n",
    "action=env.action_space.sample()\n",
    "_,reward,_,_=env.step(action)\n",
    "print(f\"Taking a random action {action} from the initial state {state} gives a reward of {reward}.\")"
   ]
  },
  {
   "cell_type": "markdown",
   "id": "6x5it2ji27r",
   "source": "## Rewards\n\nThe **reward function** $R(s, a)$ defines the immediate feedback the agent receives. \n\nIn this maze:\n- $r_t = -1$ for each step (encourages shorter paths)\n- This creates a penalty for every action, motivating the agent to reach the goal quickly",
   "metadata": {}
  },
  {
   "cell_type": "code",
   "execution_count": 33,
   "id": "e8f18ac9",
   "metadata": {},
   "outputs": [
    {
     "name": "stdout",
     "output_type": "stream",
     "text": [
      "It took 540 time steps to finish the episode with a return of G_0=-99.56045324044636.\n"
     ]
    }
   ],
   "source": [
    "env=Maze()\n",
    "state=env.reset()\n",
    "done=False\n",
    "G_0=0\n",
    "gamma=0.99\n",
    "t=0\n",
    "while not done:\n",
    "    action=env.action_space.sample()\n",
    "    _,reward,done,_=env.step(action)\n",
    "    G_0+=gamma**t*reward\n",
    "    t+=1\n",
    "env.close()\n",
    "print(f\"It took {t} time steps to finish the episode with a return of G_0={G_0}.\")"
   ]
  },
  {
   "cell_type": "markdown",
   "id": "pp0wytjki3",
   "source": "## Return (Discounted Cumulative Reward)\n\nThe **return** $G_t$ is the total discounted reward from time $t$:\n\n$$G_t = r_t + \\\\gamma r_{t+1} + \\\\gamma^2 r_{t+2} + ... = \\\\sum_{k=0}^{\\\\infty} \\\\gamma^k r_{t+k}$$\n\nwhere:\n- $\\\\gamma \\\\in [0, 1]$ is the **discount factor**\n- $\\\\gamma = 0$: only immediate rewards matter\n- $\\\\gamma = 1$: all future rewards equally important\n- $0 < \\\\gamma < 1$: exponential decay of future rewards\n\nThe discount factor helps with:\n- Convergence in infinite-horizon problems\n- Modeling uncertainty about the future\n- Preferring immediate rewards over delayed ones",
   "metadata": {}
  },
  {
   "cell_type": "code",
   "execution_count": 39,
   "id": "b30ee78d",
   "metadata": {},
   "outputs": [],
   "source": [
    "def random_policy(state):\n",
    "    return np.array([0.25]*4) #probability of each action in each state(all the same)"
   ]
  },
  {
   "cell_type": "markdown",
   "id": "ecszfpmo4r",
   "source": "## Policy\n\nA **policy** $\\\\pi$ defines the agent's behavior by mapping states to actions (or action probabilities):\n\n$$\\\\pi(a|s) = P(a_t = a | s_t = s)$$\n\nTypes of policies:\n- **Deterministic**: $a = \\\\pi(s)$ - always takes the same action in a given state\n- **Stochastic**: $\\\\pi(a|s)$ - probability distribution over actions\n\nBelow, we define a uniform random policy where all actions have equal probability.",
   "metadata": {}
  },
  {
   "cell_type": "code",
   "execution_count": 37,
   "id": "353632be",
   "metadata": {},
   "outputs": [],
   "source": [
    "env=Maze()\n",
    "state=env.reset()"
   ]
  },
  {
   "cell_type": "code",
   "execution_count": 40,
   "id": "d9e1b042",
   "metadata": {},
   "outputs": [],
   "source": [
    "action_probabilities=random_policy(state)"
   ]
  },
  {
   "cell_type": "code",
   "execution_count": 41,
   "id": "43f177cb",
   "metadata": {},
   "outputs": [
    {
     "data": {
      "image/png": "[encoded data removed]",
      "text/plain": [
       "<Figure size 640x480 with 1 Axes>"
      ]
     },
     "metadata": {},
     "output_type": "display_data"
    }
   ],
   "source": [
    "objects=('Up','Down','Left','Right')\n",
    "y_pos=np.arange(len(objects))\n",
    "\n",
    "plt.bar(y_pos,action_probabilities,align='center',alpha=0.5)\n",
    "plt.xticks(y_pos,objects)\n",
    "plt.ylabel('Probability')\n",
    "plt.title('Action Probabilities under Random Policy')\n",
    "plt.tight_layout()\n",
    "plt.show()"
   ]
  },
  {
   "cell_type": "code",
   "execution_count": 48,
   "id": "9145b48d",
   "metadata": {},
   "outputs": [
    {
     "data": {
      "image/png": "[encoded data removed]",
      "text/plain": [
       "<Figure size 640x480 with 1 Axes>"
      ]
     },
     "metadata": {},
     "output_type": "display_data"
    }
   ],
   "source": [
    "env.reset()\n",
    "done=False\n",
    "img=plt.imshow(env.render(mode='rgb_array'))\n",
    "while not done:\n",
    "    action=np.random.choice(np.arange(env.action_space.n),p=action_probabilities)\n",
    "    _,_,done,_=env.step(action)\n",
    "    img.set_data(env.render(mode='rgb_array'))\n",
    "    plt.axis('off')\n",
    "    display.display(plt.gcf())\n",
    "    display.clear_output(wait=True)\n",
    "env.close()"
   ]
  }
 ],
 "metadata": {
  "kernelspec": {
   "display_name": "rl",
   "language": "python",
   "name": "python3"
  },
  "language_info": {
   "codemirror_mode": {
    "name": "ipython",
    "version": 3
   },
   "file_extension": ".py",
   "mimetype": "text/x-python",
   "name": "python",
   "nbconvert_exporter": "python",
   "pygments_lexer": "ipython3",
   "version": "3.10.15"
  }
 },
 "nbformat": 4,
 "nbformat_minor": 5
}